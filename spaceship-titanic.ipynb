{
 "cells": [
  {
   "cell_type": "code",
   "execution_count": 1,
   "id": "6a01299f",
   "metadata": {
    "_cell_guid": "b1076dfc-b9ad-4769-8c92-a6c4dae69d19",
    "_uuid": "8f2839f25d086af736a60e9eeb907d3b93b6e0e5",
    "execution": {
     "iopub.execute_input": "2022-08-30T20:41:01.112149Z",
     "iopub.status.busy": "2022-08-30T20:41:01.111676Z",
     "iopub.status.idle": "2022-08-30T20:41:02.410333Z",
     "shell.execute_reply": "2022-08-30T20:41:02.408713Z"
    },
    "papermill": {
     "duration": 1.317481,
     "end_time": "2022-08-30T20:41:02.414484",
     "exception": false,
     "start_time": "2022-08-30T20:41:01.097003",
     "status": "completed"
    },
    "tags": []
   },
   "outputs": [
    {
     "name": "stdout",
     "output_type": "stream",
     "text": [
      "/kaggle/input/spaceship-titanic/sample_submission.csv\n",
      "/kaggle/input/spaceship-titanic/train.csv\n",
      "/kaggle/input/spaceship-titanic/test.csv\n"
     ]
    }
   ],
   "source": [
    "# This Python 3 environment comes with many helpful analytics libraries installed\n",
    "# It is defined by the kaggle/python Docker image: https://github.com/kaggle/docker-python\n",
    "# For example, here's several helpful packages to load\n",
    "\n",
    "import numpy as np # linear algebra\n",
    "import pandas as pd # data processing, CSV file I/O (e.g. pd.read_csv)\n",
    "import matplotlib.pyplot as plt\n",
    "import seaborn as sns\n",
    "\n",
    "# Input data files are available in the read-only \"../input/\" directory\n",
    "# For example, running this (by clicking run or pressing Shift+Enter) will list all files under the input directory\n",
    "\n",
    "import os\n",
    "for dirname, _, filenames in os.walk('/kaggle/input'):\n",
    "    for filename in filenames:\n",
    "        print(os.path.join(dirname, filename))\n",
    "\n",
    "# You can write up to 20GB to the current directory (/kaggle/working/) that gets preserved as output when you create a version using \"Save & Run All\" \n",
    "# You can also write temporary files to /kaggle/temp/, but they won't be saved outside of the current session"
   ]
  },
  {
   "cell_type": "markdown",
   "id": "929b1867",
   "metadata": {
    "papermill": {
     "duration": 0.010648,
     "end_time": "2022-08-30T20:41:02.437507",
     "exception": false,
     "start_time": "2022-08-30T20:41:02.426859",
     "status": "completed"
    },
    "tags": []
   },
   "source": [
    "Load datasets into \"train_data\" and \"test_data\""
   ]
  },
  {
   "cell_type": "code",
   "execution_count": 2,
   "id": "47a93104",
   "metadata": {
    "execution": {
     "iopub.execute_input": "2022-08-30T20:41:02.462671Z",
     "iopub.status.busy": "2022-08-30T20:41:02.462258Z",
     "iopub.status.idle": "2022-08-30T20:41:02.596723Z",
     "shell.execute_reply": "2022-08-30T20:41:02.595056Z"
    },
    "papermill": {
     "duration": 0.151342,
     "end_time": "2022-08-30T20:41:02.600565",
     "exception": false,
     "start_time": "2022-08-30T20:41:02.449223",
     "status": "completed"
    },
    "tags": []
   },
   "outputs": [
    {
     "name": "stdout",
     "output_type": "stream",
     "text": [
      "<class 'pandas.core.frame.DataFrame'>\n",
      "RangeIndex: 8693 entries, 0 to 8692\n",
      "Data columns (total 14 columns):\n",
      " #   Column        Non-Null Count  Dtype  \n",
      "---  ------        --------------  -----  \n",
      " 0   PassengerId   8693 non-null   object \n",
      " 1   HomePlanet    8492 non-null   object \n",
      " 2   CryoSleep     8476 non-null   object \n",
      " 3   Cabin         8494 non-null   object \n",
      " 4   Destination   8511 non-null   object \n",
      " 5   Age           8514 non-null   float64\n",
      " 6   VIP           8490 non-null   object \n",
      " 7   RoomService   8512 non-null   float64\n",
      " 8   FoodCourt     8510 non-null   float64\n",
      " 9   ShoppingMall  8485 non-null   float64\n",
      " 10  Spa           8510 non-null   float64\n",
      " 11  VRDeck        8505 non-null   float64\n",
      " 12  Name          8493 non-null   object \n",
      " 13  Transported   8693 non-null   bool   \n",
      "dtypes: bool(1), float64(6), object(7)\n",
      "memory usage: 891.5+ KB\n"
     ]
    },
    {
     "data": {
      "text/html": [
       "<div>\n",
       "<style scoped>\n",
       "    .dataframe tbody tr th:only-of-type {\n",
       "        vertical-align: middle;\n",
       "    }\n",
       "\n",
       "    .dataframe tbody tr th {\n",
       "        vertical-align: top;\n",
       "    }\n",
       "\n",
       "    .dataframe thead th {\n",
       "        text-align: right;\n",
       "    }\n",
       "</style>\n",
       "<table border=\"1\" class=\"dataframe\">\n",
       "  <thead>\n",
       "    <tr style=\"text-align: right;\">\n",
       "      <th></th>\n",
       "      <th>Age</th>\n",
       "      <th>RoomService</th>\n",
       "      <th>FoodCourt</th>\n",
       "      <th>ShoppingMall</th>\n",
       "      <th>Spa</th>\n",
       "      <th>VRDeck</th>\n",
       "    </tr>\n",
       "  </thead>\n",
       "  <tbody>\n",
       "    <tr>\n",
       "      <th>count</th>\n",
       "      <td>8514.000000</td>\n",
       "      <td>8512.000000</td>\n",
       "      <td>8510.000000</td>\n",
       "      <td>8485.000000</td>\n",
       "      <td>8510.000000</td>\n",
       "      <td>8505.000000</td>\n",
       "    </tr>\n",
       "    <tr>\n",
       "      <th>mean</th>\n",
       "      <td>28.827930</td>\n",
       "      <td>224.687617</td>\n",
       "      <td>458.077203</td>\n",
       "      <td>173.729169</td>\n",
       "      <td>311.138778</td>\n",
       "      <td>304.854791</td>\n",
       "    </tr>\n",
       "    <tr>\n",
       "      <th>std</th>\n",
       "      <td>14.489021</td>\n",
       "      <td>666.717663</td>\n",
       "      <td>1611.489240</td>\n",
       "      <td>604.696458</td>\n",
       "      <td>1136.705535</td>\n",
       "      <td>1145.717189</td>\n",
       "    </tr>\n",
       "    <tr>\n",
       "      <th>min</th>\n",
       "      <td>0.000000</td>\n",
       "      <td>0.000000</td>\n",
       "      <td>0.000000</td>\n",
       "      <td>0.000000</td>\n",
       "      <td>0.000000</td>\n",
       "      <td>0.000000</td>\n",
       "    </tr>\n",
       "    <tr>\n",
       "      <th>25%</th>\n",
       "      <td>19.000000</td>\n",
       "      <td>0.000000</td>\n",
       "      <td>0.000000</td>\n",
       "      <td>0.000000</td>\n",
       "      <td>0.000000</td>\n",
       "      <td>0.000000</td>\n",
       "    </tr>\n",
       "    <tr>\n",
       "      <th>50%</th>\n",
       "      <td>27.000000</td>\n",
       "      <td>0.000000</td>\n",
       "      <td>0.000000</td>\n",
       "      <td>0.000000</td>\n",
       "      <td>0.000000</td>\n",
       "      <td>0.000000</td>\n",
       "    </tr>\n",
       "    <tr>\n",
       "      <th>75%</th>\n",
       "      <td>38.000000</td>\n",
       "      <td>47.000000</td>\n",
       "      <td>76.000000</td>\n",
       "      <td>27.000000</td>\n",
       "      <td>59.000000</td>\n",
       "      <td>46.000000</td>\n",
       "    </tr>\n",
       "    <tr>\n",
       "      <th>max</th>\n",
       "      <td>79.000000</td>\n",
       "      <td>14327.000000</td>\n",
       "      <td>29813.000000</td>\n",
       "      <td>23492.000000</td>\n",
       "      <td>22408.000000</td>\n",
       "      <td>24133.000000</td>\n",
       "    </tr>\n",
       "  </tbody>\n",
       "</table>\n",
       "</div>"
      ],
      "text/plain": [
       "               Age   RoomService     FoodCourt  ShoppingMall           Spa  \\\n",
       "count  8514.000000   8512.000000   8510.000000   8485.000000   8510.000000   \n",
       "mean     28.827930    224.687617    458.077203    173.729169    311.138778   \n",
       "std      14.489021    666.717663   1611.489240    604.696458   1136.705535   \n",
       "min       0.000000      0.000000      0.000000      0.000000      0.000000   \n",
       "25%      19.000000      0.000000      0.000000      0.000000      0.000000   \n",
       "50%      27.000000      0.000000      0.000000      0.000000      0.000000   \n",
       "75%      38.000000     47.000000     76.000000     27.000000     59.000000   \n",
       "max      79.000000  14327.000000  29813.000000  23492.000000  22408.000000   \n",
       "\n",
       "             VRDeck  \n",
       "count   8505.000000  \n",
       "mean     304.854791  \n",
       "std     1145.717189  \n",
       "min        0.000000  \n",
       "25%        0.000000  \n",
       "50%        0.000000  \n",
       "75%       46.000000  \n",
       "max    24133.000000  "
      ]
     },
     "execution_count": 2,
     "metadata": {},
     "output_type": "execute_result"
    }
   ],
   "source": [
    "train_data = pd.read_csv(\"/kaggle/input/spaceship-titanic/train.csv\")\n",
    "train_data.info()\n",
    "train_data.describe()"
   ]
  },
  {
   "cell_type": "code",
   "execution_count": 3,
   "id": "57d13627",
   "metadata": {
    "execution": {
     "iopub.execute_input": "2022-08-30T20:41:02.626871Z",
     "iopub.status.busy": "2022-08-30T20:41:02.626009Z",
     "iopub.status.idle": "2022-08-30T20:41:02.703055Z",
     "shell.execute_reply": "2022-08-30T20:41:02.701313Z"
    },
    "papermill": {
     "duration": 0.094018,
     "end_time": "2022-08-30T20:41:02.707374",
     "exception": false,
     "start_time": "2022-08-30T20:41:02.613356",
     "status": "completed"
    },
    "tags": []
   },
   "outputs": [
    {
     "name": "stdout",
     "output_type": "stream",
     "text": [
      "<class 'pandas.core.frame.DataFrame'>\n",
      "RangeIndex: 8693 entries, 0 to 8692\n",
      "Data columns (total 14 columns):\n",
      " #   Column        Non-Null Count  Dtype  \n",
      "---  ------        --------------  -----  \n",
      " 0   PassengerId   8693 non-null   object \n",
      " 1   HomePlanet    8492 non-null   object \n",
      " 2   CryoSleep     8476 non-null   object \n",
      " 3   Cabin         8494 non-null   object \n",
      " 4   Destination   8511 non-null   object \n",
      " 5   Age           8514 non-null   float64\n",
      " 6   VIP           8490 non-null   object \n",
      " 7   RoomService   8512 non-null   float64\n",
      " 8   FoodCourt     8510 non-null   float64\n",
      " 9   ShoppingMall  8485 non-null   float64\n",
      " 10  Spa           8510 non-null   float64\n",
      " 11  VRDeck        8505 non-null   float64\n",
      " 12  Name          8493 non-null   object \n",
      " 13  Transported   8693 non-null   bool   \n",
      "dtypes: bool(1), float64(6), object(7)\n",
      "memory usage: 891.5+ KB\n"
     ]
    },
    {
     "data": {
      "text/html": [
       "<div>\n",
       "<style scoped>\n",
       "    .dataframe tbody tr th:only-of-type {\n",
       "        vertical-align: middle;\n",
       "    }\n",
       "\n",
       "    .dataframe tbody tr th {\n",
       "        vertical-align: top;\n",
       "    }\n",
       "\n",
       "    .dataframe thead th {\n",
       "        text-align: right;\n",
       "    }\n",
       "</style>\n",
       "<table border=\"1\" class=\"dataframe\">\n",
       "  <thead>\n",
       "    <tr style=\"text-align: right;\">\n",
       "      <th></th>\n",
       "      <th>Age</th>\n",
       "      <th>RoomService</th>\n",
       "      <th>FoodCourt</th>\n",
       "      <th>ShoppingMall</th>\n",
       "      <th>Spa</th>\n",
       "      <th>VRDeck</th>\n",
       "    </tr>\n",
       "  </thead>\n",
       "  <tbody>\n",
       "    <tr>\n",
       "      <th>count</th>\n",
       "      <td>8514.000000</td>\n",
       "      <td>8512.000000</td>\n",
       "      <td>8510.000000</td>\n",
       "      <td>8485.000000</td>\n",
       "      <td>8510.000000</td>\n",
       "      <td>8505.000000</td>\n",
       "    </tr>\n",
       "    <tr>\n",
       "      <th>mean</th>\n",
       "      <td>28.827930</td>\n",
       "      <td>224.687617</td>\n",
       "      <td>458.077203</td>\n",
       "      <td>173.729169</td>\n",
       "      <td>311.138778</td>\n",
       "      <td>304.854791</td>\n",
       "    </tr>\n",
       "    <tr>\n",
       "      <th>std</th>\n",
       "      <td>14.489021</td>\n",
       "      <td>666.717663</td>\n",
       "      <td>1611.489240</td>\n",
       "      <td>604.696458</td>\n",
       "      <td>1136.705535</td>\n",
       "      <td>1145.717189</td>\n",
       "    </tr>\n",
       "    <tr>\n",
       "      <th>min</th>\n",
       "      <td>0.000000</td>\n",
       "      <td>0.000000</td>\n",
       "      <td>0.000000</td>\n",
       "      <td>0.000000</td>\n",
       "      <td>0.000000</td>\n",
       "      <td>0.000000</td>\n",
       "    </tr>\n",
       "    <tr>\n",
       "      <th>25%</th>\n",
       "      <td>19.000000</td>\n",
       "      <td>0.000000</td>\n",
       "      <td>0.000000</td>\n",
       "      <td>0.000000</td>\n",
       "      <td>0.000000</td>\n",
       "      <td>0.000000</td>\n",
       "    </tr>\n",
       "    <tr>\n",
       "      <th>50%</th>\n",
       "      <td>27.000000</td>\n",
       "      <td>0.000000</td>\n",
       "      <td>0.000000</td>\n",
       "      <td>0.000000</td>\n",
       "      <td>0.000000</td>\n",
       "      <td>0.000000</td>\n",
       "    </tr>\n",
       "    <tr>\n",
       "      <th>75%</th>\n",
       "      <td>38.000000</td>\n",
       "      <td>47.000000</td>\n",
       "      <td>76.000000</td>\n",
       "      <td>27.000000</td>\n",
       "      <td>59.000000</td>\n",
       "      <td>46.000000</td>\n",
       "    </tr>\n",
       "    <tr>\n",
       "      <th>max</th>\n",
       "      <td>79.000000</td>\n",
       "      <td>14327.000000</td>\n",
       "      <td>29813.000000</td>\n",
       "      <td>23492.000000</td>\n",
       "      <td>22408.000000</td>\n",
       "      <td>24133.000000</td>\n",
       "    </tr>\n",
       "  </tbody>\n",
       "</table>\n",
       "</div>"
      ],
      "text/plain": [
       "               Age   RoomService     FoodCourt  ShoppingMall           Spa  \\\n",
       "count  8514.000000   8512.000000   8510.000000   8485.000000   8510.000000   \n",
       "mean     28.827930    224.687617    458.077203    173.729169    311.138778   \n",
       "std      14.489021    666.717663   1611.489240    604.696458   1136.705535   \n",
       "min       0.000000      0.000000      0.000000      0.000000      0.000000   \n",
       "25%      19.000000      0.000000      0.000000      0.000000      0.000000   \n",
       "50%      27.000000      0.000000      0.000000      0.000000      0.000000   \n",
       "75%      38.000000     47.000000     76.000000     27.000000     59.000000   \n",
       "max      79.000000  14327.000000  29813.000000  23492.000000  22408.000000   \n",
       "\n",
       "             VRDeck  \n",
       "count   8505.000000  \n",
       "mean     304.854791  \n",
       "std     1145.717189  \n",
       "min        0.000000  \n",
       "25%        0.000000  \n",
       "50%        0.000000  \n",
       "75%       46.000000  \n",
       "max    24133.000000  "
      ]
     },
     "execution_count": 3,
     "metadata": {},
     "output_type": "execute_result"
    }
   ],
   "source": [
    "test_data = pd.read_csv(\"/kaggle/input/spaceship-titanic/train.csv\")\n",
    "test_data.info()\n",
    "test_data.describe()"
   ]
  },
  {
   "cell_type": "code",
   "execution_count": 4,
   "id": "c699995a",
   "metadata": {
    "execution": {
     "iopub.execute_input": "2022-08-30T20:41:02.732625Z",
     "iopub.status.busy": "2022-08-30T20:41:02.731771Z",
     "iopub.status.idle": "2022-08-30T20:41:02.740023Z",
     "shell.execute_reply": "2022-08-30T20:41:02.738699Z"
    },
    "papermill": {
     "duration": 0.023563,
     "end_time": "2022-08-30T20:41:02.742499",
     "exception": false,
     "start_time": "2022-08-30T20:41:02.718936",
     "status": "completed"
    },
    "tags": []
   },
   "outputs": [
    {
     "data": {
      "text/plain": [
       "Index(['PassengerId', 'HomePlanet', 'CryoSleep', 'Cabin', 'Destination', 'Age',\n",
       "       'VIP', 'RoomService', 'FoodCourt', 'ShoppingMall', 'Spa', 'VRDeck',\n",
       "       'Name', 'Transported'],\n",
       "      dtype='object')"
      ]
     },
     "execution_count": 4,
     "metadata": {},
     "output_type": "execute_result"
    }
   ],
   "source": [
    "train_data.columns"
   ]
  },
  {
   "cell_type": "code",
   "execution_count": 5,
   "id": "7ee25770",
   "metadata": {
    "execution": {
     "iopub.execute_input": "2022-08-30T20:41:02.768071Z",
     "iopub.status.busy": "2022-08-30T20:41:02.767196Z",
     "iopub.status.idle": "2022-08-30T20:41:02.782393Z",
     "shell.execute_reply": "2022-08-30T20:41:02.780297Z"
    },
    "papermill": {
     "duration": 0.032219,
     "end_time": "2022-08-30T20:41:02.786341",
     "exception": false,
     "start_time": "2022-08-30T20:41:02.754122",
     "status": "completed"
    },
    "tags": []
   },
   "outputs": [
    {
     "name": "stdout",
     "output_type": "stream",
     "text": [
      "<class 'pandas.core.frame.DataFrame'>\n",
      "RangeIndex: 8693 entries, 0 to 8692\n",
      "Data columns (total 6 columns):\n",
      " #   Column        Non-Null Count  Dtype  \n",
      "---  ------        --------------  -----  \n",
      " 0   Age           8514 non-null   float64\n",
      " 1   RoomService   8512 non-null   float64\n",
      " 2   FoodCourt     8510 non-null   float64\n",
      " 3   ShoppingMall  8485 non-null   float64\n",
      " 4   Spa           8510 non-null   float64\n",
      " 5   VRDeck        8505 non-null   float64\n",
      "dtypes: float64(6)\n",
      "memory usage: 407.6 KB\n"
     ]
    }
   ],
   "source": [
    "train_numerical = train_data[['Age','RoomService', 'FoodCourt', 'ShoppingMall', 'Spa', 'VRDeck',]]\n",
    "train_numerical.info()"
   ]
  },
  {
   "cell_type": "code",
   "execution_count": 6,
   "id": "e756884c",
   "metadata": {
    "execution": {
     "iopub.execute_input": "2022-08-30T20:41:02.812321Z",
     "iopub.status.busy": "2022-08-30T20:41:02.811881Z",
     "iopub.status.idle": "2022-08-30T20:41:02.840782Z",
     "shell.execute_reply": "2022-08-30T20:41:02.839429Z"
    },
    "papermill": {
     "duration": 0.044717,
     "end_time": "2022-08-30T20:41:02.843373",
     "exception": false,
     "start_time": "2022-08-30T20:41:02.798656",
     "status": "completed"
    },
    "tags": []
   },
   "outputs": [
    {
     "data": {
      "text/html": [
       "<div>\n",
       "<style scoped>\n",
       "    .dataframe tbody tr th:only-of-type {\n",
       "        vertical-align: middle;\n",
       "    }\n",
       "\n",
       "    .dataframe tbody tr th {\n",
       "        vertical-align: top;\n",
       "    }\n",
       "\n",
       "    .dataframe thead th {\n",
       "        text-align: right;\n",
       "    }\n",
       "</style>\n",
       "<table border=\"1\" class=\"dataframe\">\n",
       "  <thead>\n",
       "    <tr style=\"text-align: right;\">\n",
       "      <th></th>\n",
       "      <th>Age</th>\n",
       "      <th>FoodCourt</th>\n",
       "      <th>RoomService</th>\n",
       "      <th>ShoppingMall</th>\n",
       "      <th>Spa</th>\n",
       "      <th>VRDeck</th>\n",
       "    </tr>\n",
       "    <tr>\n",
       "      <th>Transported</th>\n",
       "      <th></th>\n",
       "      <th></th>\n",
       "      <th></th>\n",
       "      <th></th>\n",
       "      <th></th>\n",
       "      <th></th>\n",
       "    </tr>\n",
       "  </thead>\n",
       "  <tbody>\n",
       "    <tr>\n",
       "      <th>False</th>\n",
       "      <td>29.922858</td>\n",
       "      <td>382.615930</td>\n",
       "      <td>389.266066</td>\n",
       "      <td>167.566217</td>\n",
       "      <td>564.382666</td>\n",
       "      <td>543.629822</td>\n",
       "    </tr>\n",
       "    <tr>\n",
       "      <th>True</th>\n",
       "      <td>27.748834</td>\n",
       "      <td>532.691984</td>\n",
       "      <td>63.098021</td>\n",
       "      <td>179.829972</td>\n",
       "      <td>61.675531</td>\n",
       "      <td>69.148131</td>\n",
       "    </tr>\n",
       "  </tbody>\n",
       "</table>\n",
       "</div>"
      ],
      "text/plain": [
       "                   Age   FoodCourt  RoomService  ShoppingMall         Spa  \\\n",
       "Transported                                                                 \n",
       "False        29.922858  382.615930   389.266066    167.566217  564.382666   \n",
       "True         27.748834  532.691984    63.098021    179.829972   61.675531   \n",
       "\n",
       "                 VRDeck  \n",
       "Transported              \n",
       "False        543.629822  \n",
       "True          69.148131  "
      ]
     },
     "execution_count": 6,
     "metadata": {},
     "output_type": "execute_result"
    }
   ],
   "source": [
    "pd.pivot_table(data=train_data, index=\"Transported\", values=['Age','RoomService', 'FoodCourt', 'ShoppingMall', 'Spa', 'VRDeck',] )"
   ]
  },
  {
   "cell_type": "code",
   "execution_count": 7,
   "id": "07c0e1f0",
   "metadata": {
    "execution": {
     "iopub.execute_input": "2022-08-30T20:41:02.869599Z",
     "iopub.status.busy": "2022-08-30T20:41:02.868385Z",
     "iopub.status.idle": "2022-08-30T20:41:04.215111Z",
     "shell.execute_reply": "2022-08-30T20:41:04.214096Z"
    },
    "papermill": {
     "duration": 1.362284,
     "end_time": "2022-08-30T20:41:04.217587",
     "exception": false,
     "start_time": "2022-08-30T20:41:02.855303",
     "status": "completed"
    },
    "tags": []
   },
   "outputs": [
    {
     "data": {
      "image/png": "[encoded data removed]",
      "text/plain": [
       "<Figure size 432x288 with 1 Axes>"
      ]
     },
     "metadata": {
      "needs_background": "light"
     },
     "output_type": "display_data"
    },
    {
     "data": {
      "image/png": "[encoded data removed]",
      "text/plain": [
       "<Figure size 432x288 with 1 Axes>"
      ]
     },
     "metadata": {
      "needs_background": "light"
     },
     "output_type": "display_data"
    },
    {
     "data": {
      "image/png": "[encoded data removed]",
      "text/plain": [
       "<Figure size 432x288 with 1 Axes>"
      ]
     },
     "metadata": {
      "needs_background": "light"
     },
     "output_type": "display_data"
    },
    {
     "data": {
      "image/png": "[encoded data removed]",
      "text/plain": [
       "<Figure size 432x288 with 1 Axes>"
      ]
     },
     "metadata": {
      "needs_background": "light"
     },
     "output_type": "display_data"
    },
    {
     "data": {
      "image/png": "[encoded data removed]",
      "text/plain": [
       "<Figure size 432x288 with 1 Axes>"
      ]
     },
     "metadata": {
      "needs_background": "light"
     },
     "output_type": "display_data"
    },
    {
     "data": {
      "image/png": "[encoded data removed]",
      "text/plain": [
       "<Figure size 432x288 with 1 Axes>"
      ]
     },
     "metadata": {
      "needs_background": "light"
     },
     "output_type": "display_data"
    }
   ],
   "source": [
    "for i in train_numerical:\n",
    "    plt.hist(train_numerical[i])\n",
    "    plt.title(i)\n",
    "    plt.show()"
   ]
  },
  {
   "cell_type": "code",
   "execution_count": 8,
   "id": "37ce1d4e",
   "metadata": {
    "execution": {
     "iopub.execute_input": "2022-08-30T20:41:04.246924Z",
     "iopub.status.busy": "2022-08-30T20:41:04.246291Z",
     "iopub.status.idle": "2022-08-30T20:41:04.264057Z",
     "shell.execute_reply": "2022-08-30T20:41:04.263164Z"
    },
    "papermill": {
     "duration": 0.035527,
     "end_time": "2022-08-30T20:41:04.266635",
     "exception": false,
     "start_time": "2022-08-30T20:41:04.231108",
     "status": "completed"
    },
    "tags": []
   },
   "outputs": [
    {
     "data": {
      "text/html": [
       "<div>\n",
       "<style scoped>\n",
       "    .dataframe tbody tr th:only-of-type {\n",
       "        vertical-align: middle;\n",
       "    }\n",
       "\n",
       "    .dataframe tbody tr th {\n",
       "        vertical-align: top;\n",
       "    }\n",
       "\n",
       "    .dataframe thead th {\n",
       "        text-align: right;\n",
       "    }\n",
       "</style>\n",
       "<table border=\"1\" class=\"dataframe\">\n",
       "  <thead>\n",
       "    <tr style=\"text-align: right;\">\n",
       "      <th></th>\n",
       "      <th>Age</th>\n",
       "      <th>RoomService</th>\n",
       "      <th>FoodCourt</th>\n",
       "      <th>ShoppingMall</th>\n",
       "      <th>Spa</th>\n",
       "      <th>VRDeck</th>\n",
       "    </tr>\n",
       "  </thead>\n",
       "  <tbody>\n",
       "    <tr>\n",
       "      <th>Age</th>\n",
       "      <td>1.000000</td>\n",
       "      <td>0.068723</td>\n",
       "      <td>0.130421</td>\n",
       "      <td>0.033133</td>\n",
       "      <td>0.123970</td>\n",
       "      <td>0.101007</td>\n",
       "    </tr>\n",
       "    <tr>\n",
       "      <th>RoomService</th>\n",
       "      <td>0.068723</td>\n",
       "      <td>1.000000</td>\n",
       "      <td>-0.015889</td>\n",
       "      <td>0.054480</td>\n",
       "      <td>0.010080</td>\n",
       "      <td>-0.019581</td>\n",
       "    </tr>\n",
       "    <tr>\n",
       "      <th>FoodCourt</th>\n",
       "      <td>0.130421</td>\n",
       "      <td>-0.015889</td>\n",
       "      <td>1.000000</td>\n",
       "      <td>-0.014228</td>\n",
       "      <td>0.221891</td>\n",
       "      <td>0.227995</td>\n",
       "    </tr>\n",
       "    <tr>\n",
       "      <th>ShoppingMall</th>\n",
       "      <td>0.033133</td>\n",
       "      <td>0.054480</td>\n",
       "      <td>-0.014228</td>\n",
       "      <td>1.000000</td>\n",
       "      <td>0.013879</td>\n",
       "      <td>-0.007322</td>\n",
       "    </tr>\n",
       "    <tr>\n",
       "      <th>Spa</th>\n",
       "      <td>0.123970</td>\n",
       "      <td>0.010080</td>\n",
       "      <td>0.221891</td>\n",
       "      <td>0.013879</td>\n",
       "      <td>1.000000</td>\n",
       "      <td>0.153821</td>\n",
       "    </tr>\n",
       "    <tr>\n",
       "      <th>VRDeck</th>\n",
       "      <td>0.101007</td>\n",
       "      <td>-0.019581</td>\n",
       "      <td>0.227995</td>\n",
       "      <td>-0.007322</td>\n",
       "      <td>0.153821</td>\n",
       "      <td>1.000000</td>\n",
       "    </tr>\n",
       "  </tbody>\n",
       "</table>\n",
       "</div>"
      ],
      "text/plain": [
       "                   Age  RoomService  FoodCourt  ShoppingMall       Spa  \\\n",
       "Age           1.000000     0.068723   0.130421      0.033133  0.123970   \n",
       "RoomService   0.068723     1.000000  -0.015889      0.054480  0.010080   \n",
       "FoodCourt     0.130421    -0.015889   1.000000     -0.014228  0.221891   \n",
       "ShoppingMall  0.033133     0.054480  -0.014228      1.000000  0.013879   \n",
       "Spa           0.123970     0.010080   0.221891      0.013879  1.000000   \n",
       "VRDeck        0.101007    -0.019581   0.227995     -0.007322  0.153821   \n",
       "\n",
       "                VRDeck  \n",
       "Age           0.101007  \n",
       "RoomService  -0.019581  \n",
       "FoodCourt     0.227995  \n",
       "ShoppingMall -0.007322  \n",
       "Spa           0.153821  \n",
       "VRDeck        1.000000  "
      ]
     },
     "execution_count": 8,
     "metadata": {},
     "output_type": "execute_result"
    }
   ],
   "source": [
    "train_numerical.corr()"
   ]
  },
  {
   "cell_type": "code",
   "execution_count": 9,
   "id": "bd97cf5e",
   "metadata": {
    "execution": {
     "iopub.execute_input": "2022-08-30T20:41:04.296591Z",
     "iopub.status.busy": "2022-08-30T20:41:04.295606Z",
     "iopub.status.idle": "2022-08-30T20:41:04.632782Z",
     "shell.execute_reply": "2022-08-30T20:41:04.631185Z"
    },
    "papermill": {
     "duration": 0.35566,
     "end_time": "2022-08-30T20:41:04.635983",
     "exception": false,
     "start_time": "2022-08-30T20:41:04.280323",
     "status": "completed"
    },
    "tags": []
   },
   "outputs": [
    {
     "data": {
      "text/plain": [
       "<AxesSubplot:>"
      ]
     },
     "execution_count": 9,
     "metadata": {},
     "output_type": "execute_result"
    },
    {
     "data": {
      "image/png": "[encoded data removed]",
      "text/plain": [
       "<Figure size 432x288 with 2 Axes>"
      ]
     },
     "metadata": {
      "needs_background": "light"
     },
     "output_type": "display_data"
    }
   ],
   "source": [
    "sns.heatmap(train_numerical.corr())"
   ]
  },
  {
   "cell_type": "markdown",
   "id": "5f5b4ef2",
   "metadata": {
    "papermill": {
     "duration": 0.014197,
     "end_time": "2022-08-30T20:41:04.665549",
     "exception": false,
     "start_time": "2022-08-30T20:41:04.651352",
     "status": "completed"
    },
    "tags": []
   },
   "source": [
    "Look at categorical values"
   ]
  },
  {
   "cell_type": "code",
   "execution_count": 10,
   "id": "abe7e9c9",
   "metadata": {
    "execution": {
     "iopub.execute_input": "2022-08-30T20:41:04.695971Z",
     "iopub.status.busy": "2022-08-30T20:41:04.695586Z",
     "iopub.status.idle": "2022-08-30T20:41:04.713445Z",
     "shell.execute_reply": "2022-08-30T20:41:04.711205Z"
    },
    "papermill": {
     "duration": 0.036835,
     "end_time": "2022-08-30T20:41:04.716705",
     "exception": false,
     "start_time": "2022-08-30T20:41:04.679870",
     "status": "completed"
    },
    "tags": []
   },
   "outputs": [
    {
     "name": "stdout",
     "output_type": "stream",
     "text": [
      "<class 'pandas.core.frame.DataFrame'>\n",
      "RangeIndex: 8693 entries, 0 to 8692\n",
      "Data columns (total 5 columns):\n",
      " #   Column       Non-Null Count  Dtype \n",
      "---  ------       --------------  ----- \n",
      " 0   HomePlanet   8492 non-null   object\n",
      " 1   CryoSleep    8476 non-null   object\n",
      " 2   Destination  8511 non-null   object\n",
      " 3   VIP          8490 non-null   object\n",
      " 4   Transported  8693 non-null   bool  \n",
      "dtypes: bool(1), object(4)\n",
      "memory usage: 280.3+ KB\n"
     ]
    }
   ],
   "source": [
    "train_categorical = train_data[['HomePlanet', 'CryoSleep','Destination','VIP', 'Transported']]\n",
    "train_categorical.info()"
   ]
  },
  {
   "cell_type": "markdown",
   "id": "abf15c0c",
   "metadata": {
    "papermill": {
     "duration": 0.014739,
     "end_time": "2022-08-30T20:41:04.746264",
     "exception": false,
     "start_time": "2022-08-30T20:41:04.731525",
     "status": "completed"
    },
    "tags": []
   },
   "source": [
    "Plot counts of different categorical values"
   ]
  },
  {
   "cell_type": "code",
   "execution_count": 11,
   "id": "e5ae0305",
   "metadata": {
    "execution": {
     "iopub.execute_input": "2022-08-30T20:41:04.779163Z",
     "iopub.status.busy": "2022-08-30T20:41:04.778345Z",
     "iopub.status.idle": "2022-08-30T20:41:05.688178Z",
     "shell.execute_reply": "2022-08-30T20:41:05.687268Z"
    },
    "papermill": {
     "duration": 0.929197,
     "end_time": "2022-08-30T20:41:05.690955",
     "exception": false,
     "start_time": "2022-08-30T20:41:04.761758",
     "status": "completed"
    },
    "tags": []
   },
   "outputs": [
    {
     "data": {
      "image/png": "[encoded data removed]",
      "text/plain": [
       "<Figure size 432x288 with 1 Axes>"
      ]
     },
     "metadata": {
      "needs_background": "light"
     },
     "output_type": "display_data"
    },
    {
     "data": {
      "image/png": "[encoded data removed]",
      "text/plain": [
       "<Figure size 432x288 with 1 Axes>"
      ]
     },
     "metadata": {
      "needs_background": "light"
     },
     "output_type": "display_data"
    },
    {
     "data": {
      "image/png": "[encoded data removed]",
      "text/plain": [
       "<Figure size 432x288 with 1 Axes>"
      ]
     },
     "metadata": {
      "needs_background": "light"
     },
     "output_type": "display_data"
    },
    {
     "data": {
      "image/png": "[encoded data removed]",
      "text/plain": [
       "<Figure size 432x288 with 1 Axes>"
      ]
     },
     "metadata": {
      "needs_background": "light"
     },
     "output_type": "display_data"
    },
    {
     "data": {
      "image/png": "[encoded data removed]",
      "text/plain": [
       "<Figure size 432x288 with 1 Axes>"
      ]
     },
     "metadata": {
      "needs_background": "light"
     },
     "output_type": "display_data"
    }
   ],
   "source": [
    "for i in train_categorical:\n",
    "    sns.barplot(x=train_categorical[i].value_counts().index, y=train_categorical[i].value_counts()).set_title(i)\n",
    "    plt.show()"
   ]
  },
  {
   "cell_type": "markdown",
   "id": "508c3efb",
   "metadata": {
    "papermill": {
     "duration": 0.014496,
     "end_time": "2022-08-30T20:41:05.721973",
     "exception": false,
     "start_time": "2022-08-30T20:41:05.707477",
     "status": "completed"
    },
    "tags": []
   },
   "source": [
    "Plot transported status relative to categorical values"
   ]
  },
  {
   "cell_type": "code",
   "execution_count": 12,
   "id": "7686ae8c",
   "metadata": {
    "execution": {
     "iopub.execute_input": "2022-08-30T20:41:05.754093Z",
     "iopub.status.busy": "2022-08-30T20:41:05.752928Z",
     "iopub.status.idle": "2022-08-30T20:41:05.781415Z",
     "shell.execute_reply": "2022-08-30T20:41:05.779846Z"
    },
    "papermill": {
     "duration": 0.047449,
     "end_time": "2022-08-30T20:41:05.784097",
     "exception": false,
     "start_time": "2022-08-30T20:41:05.736648",
     "status": "completed"
    },
    "tags": []
   },
   "outputs": [
    {
     "data": {
      "text/html": [
       "<div>\n",
       "<style scoped>\n",
       "    .dataframe tbody tr th:only-of-type {\n",
       "        vertical-align: middle;\n",
       "    }\n",
       "\n",
       "    .dataframe tbody tr th {\n",
       "        vertical-align: top;\n",
       "    }\n",
       "\n",
       "    .dataframe thead th {\n",
       "        text-align: right;\n",
       "    }\n",
       "</style>\n",
       "<table border=\"1\" class=\"dataframe\">\n",
       "  <thead>\n",
       "    <tr style=\"text-align: right;\">\n",
       "      <th>HomePlanet</th>\n",
       "      <th>Earth</th>\n",
       "      <th>Europa</th>\n",
       "      <th>Mars</th>\n",
       "    </tr>\n",
       "    <tr>\n",
       "      <th>Transported</th>\n",
       "      <th></th>\n",
       "      <th></th>\n",
       "      <th></th>\n",
       "    </tr>\n",
       "  </thead>\n",
       "  <tbody>\n",
       "    <tr>\n",
       "      <th>False</th>\n",
       "      <td>2651</td>\n",
       "      <td>727</td>\n",
       "      <td>839</td>\n",
       "    </tr>\n",
       "    <tr>\n",
       "      <th>True</th>\n",
       "      <td>1951</td>\n",
       "      <td>1404</td>\n",
       "      <td>920</td>\n",
       "    </tr>\n",
       "  </tbody>\n",
       "</table>\n",
       "</div>"
      ],
      "text/plain": [
       "HomePlanet   Earth  Europa  Mars\n",
       "Transported                     \n",
       "False         2651     727   839\n",
       "True          1951    1404   920"
      ]
     },
     "execution_count": 12,
     "metadata": {},
     "output_type": "execute_result"
    }
   ],
   "source": [
    "# Pivot table showing difference of transport numbers vs. home planet\n",
    "pd.pivot_table(data=train_data, index=\"Transported\", columns='HomePlanet', values=\"PassengerId\", aggfunc=\"count\")"
   ]
  },
  {
   "cell_type": "code",
   "execution_count": 13,
   "id": "6914972f",
   "metadata": {
    "execution": {
     "iopub.execute_input": "2022-08-30T20:41:05.816870Z",
     "iopub.status.busy": "2022-08-30T20:41:05.816021Z",
     "iopub.status.idle": "2022-08-30T20:41:05.838614Z",
     "shell.execute_reply": "2022-08-30T20:41:05.837265Z"
    },
    "papermill": {
     "duration": 0.042123,
     "end_time": "2022-08-30T20:41:05.841454",
     "exception": false,
     "start_time": "2022-08-30T20:41:05.799331",
     "status": "completed"
    },
    "tags": []
   },
   "outputs": [
    {
     "data": {
      "text/html": [
       "<div>\n",
       "<style scoped>\n",
       "    .dataframe tbody tr th:only-of-type {\n",
       "        vertical-align: middle;\n",
       "    }\n",
       "\n",
       "    .dataframe tbody tr th {\n",
       "        vertical-align: top;\n",
       "    }\n",
       "\n",
       "    .dataframe thead th {\n",
       "        text-align: right;\n",
       "    }\n",
       "</style>\n",
       "<table border=\"1\" class=\"dataframe\">\n",
       "  <thead>\n",
       "    <tr style=\"text-align: right;\">\n",
       "      <th>CryoSleep</th>\n",
       "      <th>False</th>\n",
       "      <th>True</th>\n",
       "    </tr>\n",
       "    <tr>\n",
       "      <th>Transported</th>\n",
       "      <th></th>\n",
       "      <th></th>\n",
       "    </tr>\n",
       "  </thead>\n",
       "  <tbody>\n",
       "    <tr>\n",
       "      <th>False</th>\n",
       "      <td>3650</td>\n",
       "      <td>554</td>\n",
       "    </tr>\n",
       "    <tr>\n",
       "      <th>True</th>\n",
       "      <td>1789</td>\n",
       "      <td>2483</td>\n",
       "    </tr>\n",
       "  </tbody>\n",
       "</table>\n",
       "</div>"
      ],
      "text/plain": [
       "CryoSleep    False  True\n",
       "Transported             \n",
       "False         3650   554\n",
       "True          1789  2483"
      ]
     },
     "execution_count": 13,
     "metadata": {},
     "output_type": "execute_result"
    }
   ],
   "source": [
    "# Pivot table showing difference of transport numbers vs. cryo sleep status\n",
    "pd.pivot_table(data=train_data, index=\"Transported\", columns='CryoSleep', values=\"PassengerId\", aggfunc=\"count\")"
   ]
  },
  {
   "cell_type": "code",
   "execution_count": 14,
   "id": "af1780e3",
   "metadata": {
    "execution": {
     "iopub.execute_input": "2022-08-30T20:41:05.875158Z",
     "iopub.status.busy": "2022-08-30T20:41:05.873915Z",
     "iopub.status.idle": "2022-08-30T20:41:05.897130Z",
     "shell.execute_reply": "2022-08-30T20:41:05.895975Z"
    },
    "papermill": {
     "duration": 0.04349,
     "end_time": "2022-08-30T20:41:05.900200",
     "exception": false,
     "start_time": "2022-08-30T20:41:05.856710",
     "status": "completed"
    },
    "tags": []
   },
   "outputs": [
    {
     "data": {
      "text/html": [
       "<div>\n",
       "<style scoped>\n",
       "    .dataframe tbody tr th:only-of-type {\n",
       "        vertical-align: middle;\n",
       "    }\n",
       "\n",
       "    .dataframe tbody tr th {\n",
       "        vertical-align: top;\n",
       "    }\n",
       "\n",
       "    .dataframe thead th {\n",
       "        text-align: right;\n",
       "    }\n",
       "</style>\n",
       "<table border=\"1\" class=\"dataframe\">\n",
       "  <thead>\n",
       "    <tr style=\"text-align: right;\">\n",
       "      <th>Destination</th>\n",
       "      <th>55 Cancri e</th>\n",
       "      <th>PSO J318.5-22</th>\n",
       "      <th>TRAPPIST-1e</th>\n",
       "    </tr>\n",
       "    <tr>\n",
       "      <th>Transported</th>\n",
       "      <th></th>\n",
       "      <th></th>\n",
       "      <th></th>\n",
       "    </tr>\n",
       "  </thead>\n",
       "  <tbody>\n",
       "    <tr>\n",
       "      <th>False</th>\n",
       "      <td>702</td>\n",
       "      <td>395</td>\n",
       "      <td>3128</td>\n",
       "    </tr>\n",
       "    <tr>\n",
       "      <th>True</th>\n",
       "      <td>1098</td>\n",
       "      <td>401</td>\n",
       "      <td>2787</td>\n",
       "    </tr>\n",
       "  </tbody>\n",
       "</table>\n",
       "</div>"
      ],
      "text/plain": [
       "Destination  55 Cancri e  PSO J318.5-22  TRAPPIST-1e\n",
       "Transported                                         \n",
       "False                702            395         3128\n",
       "True                1098            401         2787"
      ]
     },
     "execution_count": 14,
     "metadata": {},
     "output_type": "execute_result"
    }
   ],
   "source": [
    "# Pivot table showing difference of transport numbers vs. destination\n",
    "pd.pivot_table(data=train_data, index=\"Transported\", columns='Destination', values=\"PassengerId\", aggfunc=\"count\")"
   ]
  },
  {
   "cell_type": "code",
   "execution_count": 15,
   "id": "ea89ca5c",
   "metadata": {
    "execution": {
     "iopub.execute_input": "2022-08-30T20:41:05.933999Z",
     "iopub.status.busy": "2022-08-30T20:41:05.933123Z",
     "iopub.status.idle": "2022-08-30T20:41:05.954680Z",
     "shell.execute_reply": "2022-08-30T20:41:05.953288Z"
    },
    "papermill": {
     "duration": 0.0412,
     "end_time": "2022-08-30T20:41:05.957354",
     "exception": false,
     "start_time": "2022-08-30T20:41:05.916154",
     "status": "completed"
    },
    "tags": []
   },
   "outputs": [
    {
     "data": {
      "text/html": [
       "<div>\n",
       "<style scoped>\n",
       "    .dataframe tbody tr th:only-of-type {\n",
       "        vertical-align: middle;\n",
       "    }\n",
       "\n",
       "    .dataframe tbody tr th {\n",
       "        vertical-align: top;\n",
       "    }\n",
       "\n",
       "    .dataframe thead th {\n",
       "        text-align: right;\n",
       "    }\n",
       "</style>\n",
       "<table border=\"1\" class=\"dataframe\">\n",
       "  <thead>\n",
       "    <tr style=\"text-align: right;\">\n",
       "      <th>VIP</th>\n",
       "      <th>False</th>\n",
       "      <th>True</th>\n",
       "    </tr>\n",
       "    <tr>\n",
       "      <th>Transported</th>\n",
       "      <th></th>\n",
       "      <th></th>\n",
       "    </tr>\n",
       "  </thead>\n",
       "  <tbody>\n",
       "    <tr>\n",
       "      <th>False</th>\n",
       "      <td>4093</td>\n",
       "      <td>123</td>\n",
       "    </tr>\n",
       "    <tr>\n",
       "      <th>True</th>\n",
       "      <td>4198</td>\n",
       "      <td>76</td>\n",
       "    </tr>\n",
       "  </tbody>\n",
       "</table>\n",
       "</div>"
      ],
      "text/plain": [
       "VIP          False  True\n",
       "Transported             \n",
       "False         4093   123\n",
       "True          4198    76"
      ]
     },
     "execution_count": 15,
     "metadata": {},
     "output_type": "execute_result"
    }
   ],
   "source": [
    "# Pivot table showing difference of transport numbers vs. VIP status\n",
    "pd.pivot_table(data=train_data, index=\"Transported\", columns='VIP', values=\"PassengerId\", aggfunc=\"count\")"
   ]
  },
  {
   "cell_type": "markdown",
   "id": "09b2cecf",
   "metadata": {
    "papermill": {
     "duration": 0.016298,
     "end_time": "2022-08-30T20:41:05.989105",
     "exception": false,
     "start_time": "2022-08-30T20:41:05.972807",
     "status": "completed"
    },
    "tags": []
   },
   "source": [
    "**Look at name data**"
   ]
  },
  {
   "cell_type": "code",
   "execution_count": 16,
   "id": "86e5f165",
   "metadata": {
    "execution": {
     "iopub.execute_input": "2022-08-30T20:41:06.024429Z",
     "iopub.status.busy": "2022-08-30T20:41:06.023594Z",
     "iopub.status.idle": "2022-08-30T20:41:06.033169Z",
     "shell.execute_reply": "2022-08-30T20:41:06.032135Z"
    },
    "papermill": {
     "duration": 0.029882,
     "end_time": "2022-08-30T20:41:06.035744",
     "exception": false,
     "start_time": "2022-08-30T20:41:06.005862",
     "status": "completed"
    },
    "tags": []
   },
   "outputs": [
    {
     "data": {
      "text/plain": [
       "0         Maham Ofracculy\n",
       "1            Juanna Vines\n",
       "2           Altark Susent\n",
       "3            Solam Susent\n",
       "4       Willy Santantines\n",
       "              ...        \n",
       "8688    Gravior Noxnuther\n",
       "8689      Kurta Mondalley\n",
       "8690         Fayey Connon\n",
       "8691     Celeon Hontichre\n",
       "8692     Propsh Hontichre\n",
       "Name: Name, Length: 8693, dtype: object"
      ]
     },
     "execution_count": 16,
     "metadata": {},
     "output_type": "execute_result"
    }
   ],
   "source": [
    "train_data[\"Name\"]"
   ]
  },
  {
   "cell_type": "markdown",
   "id": "21449705",
   "metadata": {
    "papermill": {
     "duration": 0.016131,
     "end_time": "2022-08-30T20:41:06.067499",
     "exception": false,
     "start_time": "2022-08-30T20:41:06.051368",
     "status": "completed"
    },
    "tags": []
   },
   "source": [
    "Look at the length of the name vs. transported"
   ]
  },
  {
   "cell_type": "code",
   "execution_count": 17,
   "id": "cd67e1aa",
   "metadata": {
    "execution": {
     "iopub.execute_input": "2022-08-30T20:41:06.101664Z",
     "iopub.status.busy": "2022-08-30T20:41:06.100824Z",
     "iopub.status.idle": "2022-08-30T20:41:06.115467Z",
     "shell.execute_reply": "2022-08-30T20:41:06.114331Z"
    },
    "papermill": {
     "duration": 0.034647,
     "end_time": "2022-08-30T20:41:06.118004",
     "exception": false,
     "start_time": "2022-08-30T20:41:06.083357",
     "status": "completed"
    },
    "tags": []
   },
   "outputs": [
    {
     "data": {
      "text/plain": [
       "16    1188\n",
       "14    1126\n",
       "15    1110\n",
       "17     975\n",
       "12     967\n",
       "13     956\n",
       "11     721\n",
       "10     538\n",
       "18     456\n",
       "9      319\n",
       "n      200\n",
       "8      111\n",
       "7       26\n",
       "Name: name_length, dtype: int64"
      ]
     },
     "execution_count": 17,
     "metadata": {},
     "output_type": "execute_result"
    }
   ],
   "source": [
    "train_data[\"name_length\"] = train_data[\"Name\"].apply(lambda x: len(x) if type(x) == str else \"n\")\n",
    "train_data[\"name_length\"].value_counts()"
   ]
  },
  {
   "cell_type": "code",
   "execution_count": 18,
   "id": "0259b596",
   "metadata": {
    "execution": {
     "iopub.execute_input": "2022-08-30T20:41:06.155768Z",
     "iopub.status.busy": "2022-08-30T20:41:06.154626Z",
     "iopub.status.idle": "2022-08-30T20:41:06.181824Z",
     "shell.execute_reply": "2022-08-30T20:41:06.180623Z"
    },
    "papermill": {
     "duration": 0.050612,
     "end_time": "2022-08-30T20:41:06.184573",
     "exception": false,
     "start_time": "2022-08-30T20:41:06.133961",
     "status": "completed"
    },
    "tags": []
   },
   "outputs": [
    {
     "data": {
      "text/html": [
       "<div>\n",
       "<style scoped>\n",
       "    .dataframe tbody tr th:only-of-type {\n",
       "        vertical-align: middle;\n",
       "    }\n",
       "\n",
       "    .dataframe tbody tr th {\n",
       "        vertical-align: top;\n",
       "    }\n",
       "\n",
       "    .dataframe thead th {\n",
       "        text-align: right;\n",
       "    }\n",
       "</style>\n",
       "<table border=\"1\" class=\"dataframe\">\n",
       "  <thead>\n",
       "    <tr style=\"text-align: right;\">\n",
       "      <th>name_length</th>\n",
       "      <th>7</th>\n",
       "      <th>8</th>\n",
       "      <th>9</th>\n",
       "      <th>10</th>\n",
       "      <th>11</th>\n",
       "      <th>12</th>\n",
       "      <th>13</th>\n",
       "      <th>14</th>\n",
       "      <th>15</th>\n",
       "      <th>16</th>\n",
       "      <th>17</th>\n",
       "      <th>18</th>\n",
       "      <th>n</th>\n",
       "    </tr>\n",
       "    <tr>\n",
       "      <th>Transported</th>\n",
       "      <th></th>\n",
       "      <th></th>\n",
       "      <th></th>\n",
       "      <th></th>\n",
       "      <th></th>\n",
       "      <th></th>\n",
       "      <th></th>\n",
       "      <th></th>\n",
       "      <th></th>\n",
       "      <th></th>\n",
       "      <th></th>\n",
       "      <th></th>\n",
       "      <th></th>\n",
       "    </tr>\n",
       "  </thead>\n",
       "  <tbody>\n",
       "    <tr>\n",
       "      <th>False</th>\n",
       "      <td>14</td>\n",
       "      <td>60</td>\n",
       "      <td>146</td>\n",
       "      <td>246</td>\n",
       "      <td>369</td>\n",
       "      <td>510</td>\n",
       "      <td>502</td>\n",
       "      <td>541</td>\n",
       "      <td>551</td>\n",
       "      <td>568</td>\n",
       "      <td>478</td>\n",
       "      <td>231</td>\n",
       "      <td>99</td>\n",
       "    </tr>\n",
       "    <tr>\n",
       "      <th>True</th>\n",
       "      <td>12</td>\n",
       "      <td>51</td>\n",
       "      <td>173</td>\n",
       "      <td>292</td>\n",
       "      <td>352</td>\n",
       "      <td>457</td>\n",
       "      <td>454</td>\n",
       "      <td>585</td>\n",
       "      <td>559</td>\n",
       "      <td>620</td>\n",
       "      <td>497</td>\n",
       "      <td>225</td>\n",
       "      <td>101</td>\n",
       "    </tr>\n",
       "  </tbody>\n",
       "</table>\n",
       "</div>"
      ],
      "text/plain": [
       "name_length   7   8    9   10   11   12   13   14   15   16   17   18    n\n",
       "Transported                                                               \n",
       "False        14  60  146  246  369  510  502  541  551  568  478  231   99\n",
       "True         12  51  173  292  352  457  454  585  559  620  497  225  101"
      ]
     },
     "execution_count": 18,
     "metadata": {},
     "output_type": "execute_result"
    }
   ],
   "source": [
    "# Pivot table showing difference of transport numbers vs. length of their name\n",
    "pd.pivot_table(data=train_data, index=\"Transported\", columns='name_length', values=\"PassengerId\", aggfunc=\"count\")"
   ]
  },
  {
   "cell_type": "markdown",
   "id": "dbf34d88",
   "metadata": {
    "papermill": {
     "duration": 0.015751,
     "end_time": "2022-08-30T20:41:06.216452",
     "exception": false,
     "start_time": "2022-08-30T20:41:06.200701",
     "status": "completed"
    },
    "tags": []
   },
   "source": [
    "Look if there is a different for individuals with middle names (doesn't appear to be the case)"
   ]
  },
  {
   "cell_type": "code",
   "execution_count": 19,
   "id": "3b4f3f8a",
   "metadata": {
    "execution": {
     "iopub.execute_input": "2022-08-30T20:41:06.252384Z",
     "iopub.status.busy": "2022-08-30T20:41:06.251888Z",
     "iopub.status.idle": "2022-08-30T20:41:06.269356Z",
     "shell.execute_reply": "2022-08-30T20:41:06.268392Z"
    },
    "papermill": {
     "duration": 0.039064,
     "end_time": "2022-08-30T20:41:06.271597",
     "exception": false,
     "start_time": "2022-08-30T20:41:06.232533",
     "status": "completed"
    },
    "tags": []
   },
   "outputs": [
    {
     "data": {
      "text/plain": [
       "2    8493\n",
       "1     200\n",
       "Name: name_words, dtype: int64"
      ]
     },
     "execution_count": 19,
     "metadata": {},
     "output_type": "execute_result"
    }
   ],
   "source": [
    "train_data[\"name_words\"] = train_data[\"Name\"].apply(lambda x: len(x.split() if type(x) == str else \"n\"))\n",
    "train_data[\"name_words\"].value_counts()"
   ]
  },
  {
   "cell_type": "markdown",
   "id": "21368183",
   "metadata": {
    "papermill": {
     "duration": 0.016089,
     "end_time": "2022-08-30T20:41:06.304742",
     "exception": false,
     "start_time": "2022-08-30T20:41:06.288653",
     "status": "completed"
    },
    "tags": []
   },
   "source": [
    "Look to see if there is a correlation with passenger names"
   ]
  },
  {
   "cell_type": "code",
   "execution_count": 20,
   "id": "faec13cb",
   "metadata": {
    "execution": {
     "iopub.execute_input": "2022-08-30T20:41:06.341628Z",
     "iopub.status.busy": "2022-08-30T20:41:06.340304Z",
     "iopub.status.idle": "2022-08-30T20:41:06.355664Z",
     "shell.execute_reply": "2022-08-30T20:41:06.354152Z"
    },
    "papermill": {
     "duration": 0.036867,
     "end_time": "2022-08-30T20:41:06.358212",
     "exception": false,
     "start_time": "2022-08-30T20:41:06.321345",
     "status": "completed"
    },
    "tags": []
   },
   "outputs": [
    {
     "data": {
      "text/plain": [
       "A    920\n",
       "S    656\n",
       "C    642\n",
       "M    578\n",
       "T    504\n",
       "B    494\n",
       "E    467\n",
       "G    462\n",
       "D    444\n",
       "L    433\n",
       "J    404\n",
       "R    345\n",
       "H    344\n",
       "W    298\n",
       "P    294\n",
       "K    259\n",
       "N    216\n",
       "F    211\n",
       "n    200\n",
       "I    164\n",
       "V    133\n",
       "O     82\n",
       "Z     60\n",
       "Y     44\n",
       "Q     22\n",
       "U     17\n",
       "Name: name_start, dtype: int64"
      ]
     },
     "execution_count": 20,
     "metadata": {},
     "output_type": "execute_result"
    }
   ],
   "source": [
    "train_data[\"name_start\"] = train_data[\"Name\"].apply(lambda x: str(x)[0])\n",
    "train_data[\"name_start\"].value_counts()"
   ]
  },
  {
   "cell_type": "code",
   "execution_count": 21,
   "id": "87aed1d7",
   "metadata": {
    "execution": {
     "iopub.execute_input": "2022-08-30T20:41:06.395605Z",
     "iopub.status.busy": "2022-08-30T20:41:06.394736Z",
     "iopub.status.idle": "2022-08-30T20:41:06.428635Z",
     "shell.execute_reply": "2022-08-30T20:41:06.427380Z"
    },
    "papermill": {
     "duration": 0.056813,
     "end_time": "2022-08-30T20:41:06.431576",
     "exception": false,
     "start_time": "2022-08-30T20:41:06.374763",
     "status": "completed"
    },
    "tags": []
   },
   "outputs": [
    {
     "data": {
      "text/html": [
       "<div>\n",
       "<style scoped>\n",
       "    .dataframe tbody tr th:only-of-type {\n",
       "        vertical-align: middle;\n",
       "    }\n",
       "\n",
       "    .dataframe tbody tr th {\n",
       "        vertical-align: top;\n",
       "    }\n",
       "\n",
       "    .dataframe thead th {\n",
       "        text-align: right;\n",
       "    }\n",
       "</style>\n",
       "<table border=\"1\" class=\"dataframe\">\n",
       "  <thead>\n",
       "    <tr style=\"text-align: right;\">\n",
       "      <th>name_start</th>\n",
       "      <th>A</th>\n",
       "      <th>B</th>\n",
       "      <th>C</th>\n",
       "      <th>D</th>\n",
       "      <th>E</th>\n",
       "      <th>F</th>\n",
       "      <th>G</th>\n",
       "      <th>H</th>\n",
       "      <th>I</th>\n",
       "      <th>J</th>\n",
       "      <th>...</th>\n",
       "      <th>Q</th>\n",
       "      <th>R</th>\n",
       "      <th>S</th>\n",
       "      <th>T</th>\n",
       "      <th>U</th>\n",
       "      <th>V</th>\n",
       "      <th>W</th>\n",
       "      <th>Y</th>\n",
       "      <th>Z</th>\n",
       "      <th>n</th>\n",
       "    </tr>\n",
       "    <tr>\n",
       "      <th>Transported</th>\n",
       "      <th></th>\n",
       "      <th></th>\n",
       "      <th></th>\n",
       "      <th></th>\n",
       "      <th></th>\n",
       "      <th></th>\n",
       "      <th></th>\n",
       "      <th></th>\n",
       "      <th></th>\n",
       "      <th></th>\n",
       "      <th></th>\n",
       "      <th></th>\n",
       "      <th></th>\n",
       "      <th></th>\n",
       "      <th></th>\n",
       "      <th></th>\n",
       "      <th></th>\n",
       "      <th></th>\n",
       "      <th></th>\n",
       "      <th></th>\n",
       "      <th></th>\n",
       "    </tr>\n",
       "  </thead>\n",
       "  <tbody>\n",
       "    <tr>\n",
       "      <th>False</th>\n",
       "      <td>421</td>\n",
       "      <td>256</td>\n",
       "      <td>315</td>\n",
       "      <td>226</td>\n",
       "      <td>245</td>\n",
       "      <td>105</td>\n",
       "      <td>231</td>\n",
       "      <td>165</td>\n",
       "      <td>88</td>\n",
       "      <td>204</td>\n",
       "      <td>...</td>\n",
       "      <td>11</td>\n",
       "      <td>182</td>\n",
       "      <td>300</td>\n",
       "      <td>282</td>\n",
       "      <td>7</td>\n",
       "      <td>78</td>\n",
       "      <td>149</td>\n",
       "      <td>24</td>\n",
       "      <td>17</td>\n",
       "      <td>99</td>\n",
       "    </tr>\n",
       "    <tr>\n",
       "      <th>True</th>\n",
       "      <td>499</td>\n",
       "      <td>238</td>\n",
       "      <td>327</td>\n",
       "      <td>218</td>\n",
       "      <td>222</td>\n",
       "      <td>106</td>\n",
       "      <td>231</td>\n",
       "      <td>179</td>\n",
       "      <td>76</td>\n",
       "      <td>200</td>\n",
       "      <td>...</td>\n",
       "      <td>11</td>\n",
       "      <td>163</td>\n",
       "      <td>356</td>\n",
       "      <td>222</td>\n",
       "      <td>10</td>\n",
       "      <td>55</td>\n",
       "      <td>149</td>\n",
       "      <td>20</td>\n",
       "      <td>43</td>\n",
       "      <td>101</td>\n",
       "    </tr>\n",
       "  </tbody>\n",
       "</table>\n",
       "<p>2 rows × 26 columns</p>\n",
       "</div>"
      ],
      "text/plain": [
       "name_start     A    B    C    D    E    F    G    H   I    J  ...   Q    R  \\\n",
       "Transported                                                   ...            \n",
       "False        421  256  315  226  245  105  231  165  88  204  ...  11  182   \n",
       "True         499  238  327  218  222  106  231  179  76  200  ...  11  163   \n",
       "\n",
       "name_start     S    T   U   V    W   Y   Z    n  \n",
       "Transported                                      \n",
       "False        300  282   7  78  149  24  17   99  \n",
       "True         356  222  10  55  149  20  43  101  \n",
       "\n",
       "[2 rows x 26 columns]"
      ]
     },
     "execution_count": 21,
     "metadata": {},
     "output_type": "execute_result"
    }
   ],
   "source": [
    "# Pivot table showing difference of transport numbers vs. starting letter in their name\n",
    "ptable = pd.pivot_table(data=train_data, index=\"Transported\", columns='name_start', values=\"PassengerId\", aggfunc=\"count\")\n",
    "ptable"
   ]
  },
  {
   "cell_type": "markdown",
   "id": "07c7a73c",
   "metadata": {
    "papermill": {
     "duration": 0.01656,
     "end_time": "2022-08-30T20:41:06.466411",
     "exception": false,
     "start_time": "2022-08-30T20:41:06.449851",
     "status": "completed"
    },
    "tags": []
   },
   "source": [
    "**Cabin analysis**"
   ]
  },
  {
   "cell_type": "code",
   "execution_count": 22,
   "id": "88a6ecb7",
   "metadata": {
    "execution": {
     "iopub.execute_input": "2022-08-30T20:41:06.503109Z",
     "iopub.status.busy": "2022-08-30T20:41:06.502671Z",
     "iopub.status.idle": "2022-08-30T20:41:06.516204Z",
     "shell.execute_reply": "2022-08-30T20:41:06.515333Z"
    },
    "papermill": {
     "duration": 0.035445,
     "end_time": "2022-08-30T20:41:06.518698",
     "exception": false,
     "start_time": "2022-08-30T20:41:06.483253",
     "status": "completed"
    },
    "tags": []
   },
   "outputs": [
    {
     "data": {
      "text/plain": [
       "F    2794\n",
       "G    2559\n",
       "E     876\n",
       "B     779\n",
       "C     747\n",
       "D     478\n",
       "A     256\n",
       "n     199\n",
       "T       5\n",
       "Name: cabin_letter, dtype: int64"
      ]
     },
     "execution_count": 22,
     "metadata": {},
     "output_type": "execute_result"
    }
   ],
   "source": [
    "train_data[\"cabin_letter\"] = train_data[\"Cabin\"].apply(lambda x: str(x)[0])\n",
    "train_data[\"cabin_letter\"].value_counts()"
   ]
  },
  {
   "cell_type": "code",
   "execution_count": 23,
   "id": "635a1bd2",
   "metadata": {
    "execution": {
     "iopub.execute_input": "2022-08-30T20:41:06.556368Z",
     "iopub.status.busy": "2022-08-30T20:41:06.555577Z",
     "iopub.status.idle": "2022-08-30T20:41:06.580715Z",
     "shell.execute_reply": "2022-08-30T20:41:06.579761Z"
    },
    "papermill": {
     "duration": 0.046195,
     "end_time": "2022-08-30T20:41:06.583297",
     "exception": false,
     "start_time": "2022-08-30T20:41:06.537102",
     "status": "completed"
    },
    "tags": []
   },
   "outputs": [
    {
     "data": {
      "text/html": [
       "<div>\n",
       "<style scoped>\n",
       "    .dataframe tbody tr th:only-of-type {\n",
       "        vertical-align: middle;\n",
       "    }\n",
       "\n",
       "    .dataframe tbody tr th {\n",
       "        vertical-align: top;\n",
       "    }\n",
       "\n",
       "    .dataframe thead th {\n",
       "        text-align: right;\n",
       "    }\n",
       "</style>\n",
       "<table border=\"1\" class=\"dataframe\">\n",
       "  <thead>\n",
       "    <tr style=\"text-align: right;\">\n",
       "      <th>cabin_letter</th>\n",
       "      <th>A</th>\n",
       "      <th>B</th>\n",
       "      <th>C</th>\n",
       "      <th>D</th>\n",
       "      <th>E</th>\n",
       "      <th>F</th>\n",
       "      <th>G</th>\n",
       "      <th>T</th>\n",
       "      <th>n</th>\n",
       "    </tr>\n",
       "    <tr>\n",
       "      <th>Transported</th>\n",
       "      <th></th>\n",
       "      <th></th>\n",
       "      <th></th>\n",
       "      <th></th>\n",
       "      <th></th>\n",
       "      <th></th>\n",
       "      <th></th>\n",
       "      <th></th>\n",
       "      <th></th>\n",
       "    </tr>\n",
       "  </thead>\n",
       "  <tbody>\n",
       "    <tr>\n",
       "      <th>False</th>\n",
       "      <td>129</td>\n",
       "      <td>207</td>\n",
       "      <td>239</td>\n",
       "      <td>271</td>\n",
       "      <td>563</td>\n",
       "      <td>1565</td>\n",
       "      <td>1238</td>\n",
       "      <td>4</td>\n",
       "      <td>99</td>\n",
       "    </tr>\n",
       "    <tr>\n",
       "      <th>True</th>\n",
       "      <td>127</td>\n",
       "      <td>572</td>\n",
       "      <td>508</td>\n",
       "      <td>207</td>\n",
       "      <td>313</td>\n",
       "      <td>1229</td>\n",
       "      <td>1321</td>\n",
       "      <td>1</td>\n",
       "      <td>100</td>\n",
       "    </tr>\n",
       "  </tbody>\n",
       "</table>\n",
       "</div>"
      ],
      "text/plain": [
       "cabin_letter    A    B    C    D    E     F     G  T    n\n",
       "Transported                                              \n",
       "False         129  207  239  271  563  1565  1238  4   99\n",
       "True          127  572  508  207  313  1229  1321  1  100"
      ]
     },
     "execution_count": 23,
     "metadata": {},
     "output_type": "execute_result"
    }
   ],
   "source": [
    "pd.pivot_table(data=train_data, index=\"Transported\", columns='cabin_letter', values=\"PassengerId\", aggfunc=\"count\")"
   ]
  },
  {
   "cell_type": "markdown",
   "id": "4458c099",
   "metadata": {
    "papermill": {
     "duration": 0.016462,
     "end_time": "2022-08-30T20:41:06.616974",
     "exception": false,
     "start_time": "2022-08-30T20:41:06.600512",
     "status": "completed"
    },
    "tags": []
   },
   "source": [
    "Data pre-processing"
   ]
  },
  {
   "cell_type": "code",
   "execution_count": 24,
   "id": "1a37470a",
   "metadata": {
    "execution": {
     "iopub.execute_input": "2022-08-30T20:41:06.653098Z",
     "iopub.status.busy": "2022-08-30T20:41:06.652367Z",
     "iopub.status.idle": "2022-08-30T20:41:06.671491Z",
     "shell.execute_reply": "2022-08-30T20:41:06.669800Z"
    },
    "papermill": {
     "duration": 0.04062,
     "end_time": "2022-08-30T20:41:06.674497",
     "exception": false,
     "start_time": "2022-08-30T20:41:06.633877",
     "status": "completed"
    },
    "tags": []
   },
   "outputs": [
    {
     "name": "stdout",
     "output_type": "stream",
     "text": [
      "<class 'pandas.core.frame.DataFrame'>\n",
      "RangeIndex: 8693 entries, 0 to 8692\n",
      "Data columns (total 18 columns):\n",
      " #   Column        Non-Null Count  Dtype  \n",
      "---  ------        --------------  -----  \n",
      " 0   PassengerId   8693 non-null   object \n",
      " 1   HomePlanet    8492 non-null   object \n",
      " 2   CryoSleep     8476 non-null   object \n",
      " 3   Cabin         8494 non-null   object \n",
      " 4   Destination   8511 non-null   object \n",
      " 5   Age           8514 non-null   float64\n",
      " 6   VIP           8490 non-null   object \n",
      " 7   RoomService   8512 non-null   float64\n",
      " 8   FoodCourt     8510 non-null   float64\n",
      " 9   ShoppingMall  8485 non-null   float64\n",
      " 10  Spa           8510 non-null   float64\n",
      " 11  VRDeck        8505 non-null   float64\n",
      " 12  Name          8493 non-null   object \n",
      " 13  Transported   8693 non-null   bool   \n",
      " 14  name_length   8693 non-null   object \n",
      " 15  name_words    8693 non-null   int64  \n",
      " 16  name_start    8693 non-null   object \n",
      " 17  cabin_letter  8693 non-null   object \n",
      "dtypes: bool(1), float64(6), int64(1), object(10)\n",
      "memory usage: 1.1+ MB\n"
     ]
    }
   ],
   "source": [
    "train_data.info()"
   ]
  },
  {
   "cell_type": "code",
   "execution_count": 25,
   "id": "663b0a0f",
   "metadata": {
    "execution": {
     "iopub.execute_input": "2022-08-30T20:41:06.710576Z",
     "iopub.status.busy": "2022-08-30T20:41:06.710111Z",
     "iopub.status.idle": "2022-08-30T20:41:06.729513Z",
     "shell.execute_reply": "2022-08-30T20:41:06.728397Z"
    },
    "papermill": {
     "duration": 0.041134,
     "end_time": "2022-08-30T20:41:06.732871",
     "exception": false,
     "start_time": "2022-08-30T20:41:06.691737",
     "status": "completed"
    },
    "tags": []
   },
   "outputs": [
    {
     "name": "stdout",
     "output_type": "stream",
     "text": [
      "<class 'pandas.core.frame.DataFrame'>\n",
      "RangeIndex: 8693 entries, 0 to 8692\n",
      "Data columns (total 14 columns):\n",
      " #   Column        Non-Null Count  Dtype  \n",
      "---  ------        --------------  -----  \n",
      " 0   PassengerId   8693 non-null   object \n",
      " 1   HomePlanet    8492 non-null   object \n",
      " 2   CryoSleep     8476 non-null   object \n",
      " 3   Cabin         8494 non-null   object \n",
      " 4   Destination   8511 non-null   object \n",
      " 5   Age           8514 non-null   float64\n",
      " 6   VIP           8490 non-null   object \n",
      " 7   RoomService   8512 non-null   float64\n",
      " 8   FoodCourt     8510 non-null   float64\n",
      " 9   ShoppingMall  8485 non-null   float64\n",
      " 10  Spa           8510 non-null   float64\n",
      " 11  VRDeck        8505 non-null   float64\n",
      " 12  Name          8493 non-null   object \n",
      " 13  Transported   8693 non-null   bool   \n",
      "dtypes: bool(1), float64(6), object(7)\n",
      "memory usage: 891.5+ KB\n"
     ]
    }
   ],
   "source": [
    "test_data.info()"
   ]
  },
  {
   "cell_type": "code",
   "execution_count": 26,
   "id": "3ae1d7e6",
   "metadata": {
    "execution": {
     "iopub.execute_input": "2022-08-30T20:41:06.771307Z",
     "iopub.status.busy": "2022-08-30T20:41:06.770469Z",
     "iopub.status.idle": "2022-08-30T20:41:06.783494Z",
     "shell.execute_reply": "2022-08-30T20:41:06.782101Z"
    },
    "papermill": {
     "duration": 0.034814,
     "end_time": "2022-08-30T20:41:06.786384",
     "exception": false,
     "start_time": "2022-08-30T20:41:06.751570",
     "status": "completed"
    },
    "tags": []
   },
   "outputs": [],
   "source": [
    "# Fill cryosleep details (unlikely to have been unaccounted for in cryosleep)\n",
    "train_data.CryoSleep = train_data.CryoSleep.fillna(False)\n",
    "test_data.CryoSleep = test_data.CryoSleep.fillna(False)"
   ]
  },
  {
   "cell_type": "code",
   "execution_count": 27,
   "id": "bce596dc",
   "metadata": {
    "execution": {
     "iopub.execute_input": "2022-08-30T20:41:06.826060Z",
     "iopub.status.busy": "2022-08-30T20:41:06.825369Z",
     "iopub.status.idle": "2022-08-30T20:41:06.837434Z",
     "shell.execute_reply": "2022-08-30T20:41:06.836323Z"
    },
    "papermill": {
     "duration": 0.034251,
     "end_time": "2022-08-30T20:41:06.840119",
     "exception": false,
     "start_time": "2022-08-30T20:41:06.805868",
     "status": "completed"
    },
    "tags": []
   },
   "outputs": [],
   "source": [
    "# Fill VIP details (unlikely to have been unaccounted for in VIP)\n",
    "train_data.VIP = train_data.VIP.fillna(False)\n",
    "test_data.VIP = test_data.VIP.fillna(False)"
   ]
  },
  {
   "cell_type": "code",
   "execution_count": 28,
   "id": "c63751d1",
   "metadata": {
    "execution": {
     "iopub.execute_input": "2022-08-30T20:41:06.877460Z",
     "iopub.status.busy": "2022-08-30T20:41:06.877044Z",
     "iopub.status.idle": "2022-08-30T20:41:06.885671Z",
     "shell.execute_reply": "2022-08-30T20:41:06.884653Z"
    },
    "papermill": {
     "duration": 0.030269,
     "end_time": "2022-08-30T20:41:06.887979",
     "exception": false,
     "start_time": "2022-08-30T20:41:06.857710",
     "status": "completed"
    },
    "tags": []
   },
   "outputs": [],
   "source": [
    "# Fill age data in with the median age\n",
    "train_data.Age = train_data.Age.fillna(train_data.Age.median())\n",
    "test_data.Age = test_data.Age.fillna(train_data.Age.median())"
   ]
  },
  {
   "cell_type": "code",
   "execution_count": 29,
   "id": "a6f81628",
   "metadata": {
    "execution": {
     "iopub.execute_input": "2022-08-30T20:41:06.923888Z",
     "iopub.status.busy": "2022-08-30T20:41:06.923077Z",
     "iopub.status.idle": "2022-08-30T20:41:06.932665Z",
     "shell.execute_reply": "2022-08-30T20:41:06.931663Z"
    },
    "papermill": {
     "duration": 0.030197,
     "end_time": "2022-08-30T20:41:06.935139",
     "exception": false,
     "start_time": "2022-08-30T20:41:06.904942",
     "status": "completed"
    },
    "tags": []
   },
   "outputs": [],
   "source": [
    "#A lack of a balance due by the passengers likely means nothing was spent\n",
    "bills = [\"RoomService\", \"FoodCourt\", \"ShoppingMall\", \"Spa\", \"VRDeck\"]\n",
    "for i in bills:\n",
    "    train_data[i] = train_data[i].fillna(0)\n",
    "    test_data[i] = test_data[i].fillna(0)"
   ]
  },
  {
   "cell_type": "code",
   "execution_count": 30,
   "id": "f605ec89",
   "metadata": {
    "execution": {
     "iopub.execute_input": "2022-08-30T20:41:06.972419Z",
     "iopub.status.busy": "2022-08-30T20:41:06.971315Z",
     "iopub.status.idle": "2022-08-30T20:41:06.993295Z",
     "shell.execute_reply": "2022-08-30T20:41:06.992398Z"
    },
    "papermill": {
     "duration": 0.0429,
     "end_time": "2022-08-30T20:41:06.995930",
     "exception": false,
     "start_time": "2022-08-30T20:41:06.953030",
     "status": "completed"
    },
    "tags": []
   },
   "outputs": [],
   "source": [
    "train_data.dropna(subset=['HomePlanet'],inplace = True)\n",
    "train_data.dropna(subset=['Destination'],inplace = True)\n",
    "test_data.dropna(subset=['HomePlanet'],inplace = True)\n",
    "test_data.dropna(subset=['Destination'],inplace = True)"
   ]
  },
  {
   "cell_type": "code",
   "execution_count": 31,
   "id": "00d468ee",
   "metadata": {
    "execution": {
     "iopub.execute_input": "2022-08-30T20:41:07.033871Z",
     "iopub.status.busy": "2022-08-30T20:41:07.032500Z",
     "iopub.status.idle": "2022-08-30T20:41:07.050697Z",
     "shell.execute_reply": "2022-08-30T20:41:07.048954Z"
    },
    "papermill": {
     "duration": 0.03942,
     "end_time": "2022-08-30T20:41:07.053490",
     "exception": false,
     "start_time": "2022-08-30T20:41:07.014070",
     "status": "completed"
    },
    "tags": []
   },
   "outputs": [
    {
     "name": "stdout",
     "output_type": "stream",
     "text": [
      "<class 'pandas.core.frame.DataFrame'>\n",
      "Int64Index: 8314 entries, 0 to 8692\n",
      "Data columns (total 18 columns):\n",
      " #   Column        Non-Null Count  Dtype  \n",
      "---  ------        --------------  -----  \n",
      " 0   PassengerId   8314 non-null   object \n",
      " 1   HomePlanet    8314 non-null   object \n",
      " 2   CryoSleep     8314 non-null   bool   \n",
      " 3   Cabin         8125 non-null   object \n",
      " 4   Destination   8314 non-null   object \n",
      " 5   Age           8314 non-null   float64\n",
      " 6   VIP           8314 non-null   bool   \n",
      " 7   RoomService   8314 non-null   float64\n",
      " 8   FoodCourt     8314 non-null   float64\n",
      " 9   ShoppingMall  8314 non-null   float64\n",
      " 10  Spa           8314 non-null   float64\n",
      " 11  VRDeck        8314 non-null   float64\n",
      " 12  Name          8125 non-null   object \n",
      " 13  Transported   8314 non-null   bool   \n",
      " 14  name_length   8314 non-null   object \n",
      " 15  name_words    8314 non-null   int64  \n",
      " 16  name_start    8314 non-null   object \n",
      " 17  cabin_letter  8314 non-null   object \n",
      "dtypes: bool(3), float64(6), int64(1), object(8)\n",
      "memory usage: 1.0+ MB\n"
     ]
    }
   ],
   "source": [
    "train_data.info()"
   ]
  },
  {
   "cell_type": "code",
   "execution_count": 32,
   "id": "6d3cabb0",
   "metadata": {
    "execution": {
     "iopub.execute_input": "2022-08-30T20:41:07.090534Z",
     "iopub.status.busy": "2022-08-30T20:41:07.089714Z",
     "iopub.status.idle": "2022-08-30T20:41:07.106459Z",
     "shell.execute_reply": "2022-08-30T20:41:07.104287Z"
    },
    "papermill": {
     "duration": 0.038071,
     "end_time": "2022-08-30T20:41:07.109114",
     "exception": false,
     "start_time": "2022-08-30T20:41:07.071043",
     "status": "completed"
    },
    "tags": []
   },
   "outputs": [
    {
     "name": "stdout",
     "output_type": "stream",
     "text": [
      "<class 'pandas.core.frame.DataFrame'>\n",
      "Int64Index: 8314 entries, 0 to 8692\n",
      "Data columns (total 14 columns):\n",
      " #   Column        Non-Null Count  Dtype  \n",
      "---  ------        --------------  -----  \n",
      " 0   PassengerId   8314 non-null   object \n",
      " 1   HomePlanet    8314 non-null   object \n",
      " 2   CryoSleep     8314 non-null   bool   \n",
      " 3   Cabin         8125 non-null   object \n",
      " 4   Destination   8314 non-null   object \n",
      " 5   Age           8314 non-null   float64\n",
      " 6   VIP           8314 non-null   bool   \n",
      " 7   RoomService   8314 non-null   float64\n",
      " 8   FoodCourt     8314 non-null   float64\n",
      " 9   ShoppingMall  8314 non-null   float64\n",
      " 10  Spa           8314 non-null   float64\n",
      " 11  VRDeck        8314 non-null   float64\n",
      " 12  Name          8125 non-null   object \n",
      " 13  Transported   8314 non-null   bool   \n",
      "dtypes: bool(3), float64(6), object(5)\n",
      "memory usage: 803.8+ KB\n"
     ]
    }
   ],
   "source": [
    "test_data.info()"
   ]
  },
  {
   "cell_type": "code",
   "execution_count": 33,
   "id": "ec3a2ffa",
   "metadata": {
    "execution": {
     "iopub.execute_input": "2022-08-30T20:41:07.148519Z",
     "iopub.status.busy": "2022-08-30T20:41:07.147749Z",
     "iopub.status.idle": "2022-08-30T20:41:07.154261Z",
     "shell.execute_reply": "2022-08-30T20:41:07.153352Z"
    },
    "papermill": {
     "duration": 0.027952,
     "end_time": "2022-08-30T20:41:07.156469",
     "exception": false,
     "start_time": "2022-08-30T20:41:07.128517",
     "status": "completed"
    },
    "tags": []
   },
   "outputs": [
    {
     "data": {
      "text/plain": [
       "Index(['PassengerId', 'HomePlanet', 'CryoSleep', 'Cabin', 'Destination', 'Age',\n",
       "       'VIP', 'RoomService', 'FoodCourt', 'ShoppingMall', 'Spa', 'VRDeck',\n",
       "       'Name', 'Transported', 'name_length', 'name_words', 'name_start',\n",
       "       'cabin_letter'],\n",
       "      dtype='object')"
      ]
     },
     "execution_count": 33,
     "metadata": {},
     "output_type": "execute_result"
    }
   ],
   "source": [
    "train_data.columns"
   ]
  },
  {
   "cell_type": "code",
   "execution_count": 34,
   "id": "0a5f6dc7",
   "metadata": {
    "execution": {
     "iopub.execute_input": "2022-08-30T20:41:07.195518Z",
     "iopub.status.busy": "2022-08-30T20:41:07.194121Z",
     "iopub.status.idle": "2022-08-30T20:41:07.200837Z",
     "shell.execute_reply": "2022-08-30T20:41:07.199722Z"
    },
    "papermill": {
     "duration": 0.029176,
     "end_time": "2022-08-30T20:41:07.203301",
     "exception": false,
     "start_time": "2022-08-30T20:41:07.174125",
     "status": "completed"
    },
    "tags": []
   },
   "outputs": [],
   "source": [
    "columns_for_dummies = ['HomePlanet', 'CryoSleep', 'Destination', 'Age', 'VIP', 'RoomService', 'FoodCourt', 'ShoppingMall', 'Spa', 'VRDeck','cabin_letter']"
   ]
  },
  {
   "cell_type": "code",
   "execution_count": 35,
   "id": "d34404a5",
   "metadata": {
    "execution": {
     "iopub.execute_input": "2022-08-30T20:41:07.241219Z",
     "iopub.status.busy": "2022-08-30T20:41:07.240791Z",
     "iopub.status.idle": "2022-08-30T20:41:07.250174Z",
     "shell.execute_reply": "2022-08-30T20:41:07.249219Z"
    },
    "papermill": {
     "duration": 0.031236,
     "end_time": "2022-08-30T20:41:07.252630",
     "exception": false,
     "start_time": "2022-08-30T20:41:07.221394",
     "status": "completed"
    },
    "tags": []
   },
   "outputs": [],
   "source": [
    "# Add cabin letter data\n",
    "test_data[\"cabin_letter\"] = test_data[\"Cabin\"].apply(lambda x: str(x)[0])"
   ]
  },
  {
   "cell_type": "code",
   "execution_count": 36,
   "id": "21f592fd",
   "metadata": {
    "execution": {
     "iopub.execute_input": "2022-08-30T20:41:07.291328Z",
     "iopub.status.busy": "2022-08-30T20:41:07.290682Z",
     "iopub.status.idle": "2022-08-30T20:41:07.316661Z",
     "shell.execute_reply": "2022-08-30T20:41:07.315326Z"
    },
    "papermill": {
     "duration": 0.049205,
     "end_time": "2022-08-30T20:41:07.319364",
     "exception": false,
     "start_time": "2022-08-30T20:41:07.270159",
     "status": "completed"
    },
    "tags": []
   },
   "outputs": [
    {
     "name": "stdout",
     "output_type": "stream",
     "text": [
      "<class 'pandas.core.frame.DataFrame'>\n",
      "Int64Index: 8314 entries, 0 to 8692\n",
      "Data columns (total 23 columns):\n",
      " #   Column                     Non-Null Count  Dtype  \n",
      "---  ------                     --------------  -----  \n",
      " 0   CryoSleep                  8314 non-null   bool   \n",
      " 1   Age                        8314 non-null   float64\n",
      " 2   VIP                        8314 non-null   bool   \n",
      " 3   RoomService                8314 non-null   float64\n",
      " 4   FoodCourt                  8314 non-null   float64\n",
      " 5   ShoppingMall               8314 non-null   float64\n",
      " 6   Spa                        8314 non-null   float64\n",
      " 7   VRDeck                     8314 non-null   float64\n",
      " 8   HomePlanet_Earth           8314 non-null   uint8  \n",
      " 9   HomePlanet_Europa          8314 non-null   uint8  \n",
      " 10  HomePlanet_Mars            8314 non-null   uint8  \n",
      " 11  Destination_55 Cancri e    8314 non-null   uint8  \n",
      " 12  Destination_PSO J318.5-22  8314 non-null   uint8  \n",
      " 13  Destination_TRAPPIST-1e    8314 non-null   uint8  \n",
      " 14  cabin_letter_A             8314 non-null   uint8  \n",
      " 15  cabin_letter_B             8314 non-null   uint8  \n",
      " 16  cabin_letter_C             8314 non-null   uint8  \n",
      " 17  cabin_letter_D             8314 non-null   uint8  \n",
      " 18  cabin_letter_E             8314 non-null   uint8  \n",
      " 19  cabin_letter_F             8314 non-null   uint8  \n",
      " 20  cabin_letter_G             8314 non-null   uint8  \n",
      " 21  cabin_letter_T             8314 non-null   uint8  \n",
      " 22  cabin_letter_n             8314 non-null   uint8  \n",
      "dtypes: bool(2), float64(6), uint8(15)\n",
      "memory usage: 592.7 KB\n"
     ]
    }
   ],
   "source": [
    "train_dummies = pd.get_dummies(train_data[columns_for_dummies])\n",
    "train_dummies.info()"
   ]
  },
  {
   "cell_type": "code",
   "execution_count": 37,
   "id": "9ce1c13f",
   "metadata": {
    "execution": {
     "iopub.execute_input": "2022-08-30T20:41:07.357366Z",
     "iopub.status.busy": "2022-08-30T20:41:07.356911Z",
     "iopub.status.idle": "2022-08-30T20:41:07.384281Z",
     "shell.execute_reply": "2022-08-30T20:41:07.383339Z"
    },
    "papermill": {
     "duration": 0.049571,
     "end_time": "2022-08-30T20:41:07.387224",
     "exception": false,
     "start_time": "2022-08-30T20:41:07.337653",
     "status": "completed"
    },
    "tags": []
   },
   "outputs": [
    {
     "name": "stdout",
     "output_type": "stream",
     "text": [
      "<class 'pandas.core.frame.DataFrame'>\n",
      "Int64Index: 8314 entries, 0 to 8692\n",
      "Data columns (total 23 columns):\n",
      " #   Column                     Non-Null Count  Dtype  \n",
      "---  ------                     --------------  -----  \n",
      " 0   CryoSleep                  8314 non-null   bool   \n",
      " 1   Age                        8314 non-null   float64\n",
      " 2   VIP                        8314 non-null   bool   \n",
      " 3   RoomService                8314 non-null   float64\n",
      " 4   FoodCourt                  8314 non-null   float64\n",
      " 5   ShoppingMall               8314 non-null   float64\n",
      " 6   Spa                        8314 non-null   float64\n",
      " 7   VRDeck                     8314 non-null   float64\n",
      " 8   HomePlanet_Earth           8314 non-null   uint8  \n",
      " 9   HomePlanet_Europa          8314 non-null   uint8  \n",
      " 10  HomePlanet_Mars            8314 non-null   uint8  \n",
      " 11  Destination_55 Cancri e    8314 non-null   uint8  \n",
      " 12  Destination_PSO J318.5-22  8314 non-null   uint8  \n",
      " 13  Destination_TRAPPIST-1e    8314 non-null   uint8  \n",
      " 14  cabin_letter_A             8314 non-null   uint8  \n",
      " 15  cabin_letter_B             8314 non-null   uint8  \n",
      " 16  cabin_letter_C             8314 non-null   uint8  \n",
      " 17  cabin_letter_D             8314 non-null   uint8  \n",
      " 18  cabin_letter_E             8314 non-null   uint8  \n",
      " 19  cabin_letter_F             8314 non-null   uint8  \n",
      " 20  cabin_letter_G             8314 non-null   uint8  \n",
      " 21  cabin_letter_T             8314 non-null   uint8  \n",
      " 22  cabin_letter_n             8314 non-null   uint8  \n",
      "dtypes: bool(2), float64(6), uint8(15)\n",
      "memory usage: 592.7 KB\n"
     ]
    }
   ],
   "source": [
    "test_dummies = pd.get_dummies(test_data[columns_for_dummies])\n",
    "test_dummies.info()"
   ]
  },
  {
   "cell_type": "code",
   "execution_count": 38,
   "id": "a1ae4b95",
   "metadata": {
    "execution": {
     "iopub.execute_input": "2022-08-30T20:41:07.425405Z",
     "iopub.status.busy": "2022-08-30T20:41:07.424911Z",
     "iopub.status.idle": "2022-08-30T20:41:07.432988Z",
     "shell.execute_reply": "2022-08-30T20:41:07.432073Z"
    },
    "papermill": {
     "duration": 0.030469,
     "end_time": "2022-08-30T20:41:07.435465",
     "exception": false,
     "start_time": "2022-08-30T20:41:07.404996",
     "status": "completed"
    },
    "tags": []
   },
   "outputs": [],
   "source": [
    "X_train = train_dummies.copy()\n",
    "X_test = test_dummies.copy()\n",
    "y_train = train_data[\"Transported\"]"
   ]
  },
  {
   "cell_type": "code",
   "execution_count": 39,
   "id": "f717147f",
   "metadata": {
    "execution": {
     "iopub.execute_input": "2022-08-30T20:41:07.473738Z",
     "iopub.status.busy": "2022-08-30T20:41:07.472527Z",
     "iopub.status.idle": "2022-08-30T20:41:08.652657Z",
     "shell.execute_reply": "2022-08-30T20:41:08.650586Z"
    },
    "papermill": {
     "duration": 1.202614,
     "end_time": "2022-08-30T20:41:08.655776",
     "exception": false,
     "start_time": "2022-08-30T20:41:07.453162",
     "status": "completed"
    },
    "tags": []
   },
   "outputs": [
    {
     "name": "stdout",
     "output_type": "stream",
     "text": [
      "Your submission was successfully saved!\n"
     ]
    }
   ],
   "source": [
    "from sklearn.ensemble import RandomForestClassifier\n",
    "\n",
    "model = RandomForestClassifier(n_estimators=100, max_depth=5, random_state=1)\n",
    "model.fit(X_train, y_train)\n",
    "predictions = model.predict(X_test)\n",
    "\n",
    "output = pd.DataFrame({'PassengerId': test_data.PassengerId, 'Transported': predictions})\n",
    "output.to_csv('submission.csv', index=False)\n",
    "print(\"Your submission was successfully saved!\")"
   ]
  }
 ],
 "metadata": {
  "kernelspec": {
   "display_name": "Python 3",
   "language": "python",
   "name": "python3"
  },
  "language_info": {
   "codemirror_mode": {
    "name": "ipython",
    "version": 3
   },
   "file_extension": ".py",
   "mimetype": "text/x-python",
   "name": "python",
   "nbconvert_exporter": "python",
   "pygments_lexer": "ipython3",
   "version": "3.7.12"
  },
  "papermill": {
   "default_parameters": {},
   "duration": 19.203122,
   "end_time": "2022-08-30T20:41:09.699898",
   "environment_variables": {},
   "exception": null,
   "input_path": "__notebook__.ipynb",
   "output_path": "__notebook__.ipynb",
   "parameters": {},
   "start_time": "2022-08-30T20:40:50.496776",
   "version": "2.3.4"
  }
 },
 "nbformat": 4,
 "nbformat_minor": 5
}
